{
 "cells": [
  {
   "cell_type": "markdown",
   "id": "fc1e2612",
   "metadata": {},
   "source": [
    "1.\tWrite a Python program to check if the given number is a Disarium Number?"
   ]
  },
  {
   "cell_type": "code",
   "execution_count": 1,
   "id": "479e5728",
   "metadata": {},
   "outputs": [
    {
     "name": "stdout",
     "output_type": "stream",
     "text": [
      "Enter the number: 89\n"
     ]
    },
    {
     "data": {
      "text/plain": [
       "True"
      ]
     },
     "execution_count": 1,
     "metadata": {},
     "output_type": "execute_result"
    }
   ],
   "source": [
    "def isDisarium(n):\n",
    "    n = str(n) #making the int value iterable\n",
    "    count = 0\n",
    "    for i in range(len(n)):\n",
    "        count = count+int(n[i])**(i+1) \n",
    "    if count == int(n):\n",
    "        return True\n",
    "    else:\n",
    "        return False\n",
    "\n",
    "i = int(input(\"Enter the number: \"))\n",
    "isDisarium(i)"
   ]
  },
  {
   "cell_type": "markdown",
   "id": "e5c191d1",
   "metadata": {},
   "source": [
    "2.\tWrite a Python program to print all disarium numbers between 1 to 100?"
   ]
  },
  {
   "cell_type": "code",
   "execution_count": 2,
   "id": "30a8885e",
   "metadata": {},
   "outputs": [
    {
     "name": "stdout",
     "output_type": "stream",
     "text": [
      "enter range intial value: 1\n",
      "enter range last value: 1000\n",
      "1\t2\t3\t4\t5\t6\t7\t8\t9\t89\t135\t175\t518\t598\t"
     ]
    }
   ],
   "source": [
    "a = int(input('enter range intial value: '))\n",
    "b = int(input('enter range last value: '))\n",
    "for i in range(a,b+1):\n",
    "    if isDisarium(i):\n",
    "        print(i, end = '\\t')\n",
    "    "
   ]
  },
  {
   "cell_type": "markdown",
   "id": "e390c37b",
   "metadata": {},
   "source": [
    "3.\tWrite a Python program to check if the given number is Happy Number?"
   ]
  },
  {
   "cell_type": "code",
   "execution_count": 3,
   "id": "d6392a50",
   "metadata": {},
   "outputs": [
    {
     "name": "stdout",
     "output_type": "stream",
     "text": [
      "Enter the number: 5\n"
     ]
    },
    {
     "data": {
      "text/plain": [
       "False"
      ]
     },
     "execution_count": 3,
     "metadata": {},
     "output_type": "execute_result"
    }
   ],
   "source": [
    "def numSquareSum(n):\n",
    "    n = str(n)\n",
    "    sqrsum = 0\n",
    "    for i in n:\n",
    "        sqrsum = sqrsum + int(i)**2\n",
    "    return sqrsum\n",
    "def isHappy(n):\n",
    "    if n ==0:\n",
    "        return False\n",
    "    sqrsum = numSquareSum(n)\n",
    "    if sqrsum == 1:\n",
    "        return True\n",
    "    elif sqrsum == 4:\n",
    "        return False\n",
    "    else:\n",
    "        return isHappy(sqrsum)\n",
    "\n",
    "#in base10 number system 4 → 16 → 37 → 58 → 89 → 145 → 42 → 20 → 4 → ...is leads to infinity loop.\n",
    "# all the numbers leads to either 1 or to the ablove loop\n",
    "\n",
    "i = int(input(\"Enter the number: \"))\n",
    "isHappy(i)\n"
   ]
  },
  {
   "cell_type": "markdown",
   "id": "9f6c0881",
   "metadata": {},
   "source": [
    "4.\tWrite a Python program to print all happy numbers between 1 and 100?"
   ]
  },
  {
   "cell_type": "code",
   "execution_count": 4,
   "id": "5b219c8e",
   "metadata": {},
   "outputs": [
    {
     "name": "stdout",
     "output_type": "stream",
     "text": [
      "enter range intial value: 1\n",
      "enter range last value: 1000\n",
      "1\t7\t10\t13\t19\t23\t28\t31\t32\t44\t49\t68\t70\t79\t82\t86\t91\t94\t97\t100\t103\t109\t129\t130\t133\t139\t167\t176\t188\t190\t192\t193\t203\t208\t219\t226\t230\t236\t239\t262\t263\t280\t291\t293\t301\t302\t310\t313\t319\t320\t326\t329\t331\t338\t356\t362\t365\t367\t368\t376\t379\t383\t386\t391\t392\t397\t404\t409\t440\t446\t464\t469\t478\t487\t490\t496\t536\t556\t563\t565\t566\t608\t617\t622\t623\t632\t635\t637\t638\t644\t649\t653\t655\t656\t665\t671\t673\t680\t683\t694\t700\t709\t716\t736\t739\t748\t761\t763\t784\t790\t793\t802\t806\t818\t820\t833\t836\t847\t860\t863\t874\t881\t888\t899\t901\t904\t907\t910\t912\t913\t921\t923\t931\t932\t937\t940\t946\t964\t970\t973\t989\t998\t1000\t"
     ]
    }
   ],
   "source": [
    "a = int(input('enter range intial value: '))\n",
    "b = int(input('enter range last value: '))\n",
    "for i in range(a,b+1):\n",
    "    if isHappy(i):\n",
    "        print(i, end = '\\t')"
   ]
  },
  {
   "cell_type": "markdown",
   "id": "2dd8aa86",
   "metadata": {},
   "source": [
    "5.\tWrite a Python program to determine whether the given number is a Harshad Number?"
   ]
  },
  {
   "cell_type": "code",
   "execution_count": 5,
   "id": "81c49dd0",
   "metadata": {},
   "outputs": [
    {
     "name": "stdout",
     "output_type": "stream",
     "text": [
      "Enter the number: 65\n"
     ]
    },
    {
     "data": {
      "text/plain": [
       "False"
      ]
     },
     "execution_count": 5,
     "metadata": {},
     "output_type": "execute_result"
    }
   ],
   "source": [
    "def isHarshad(n):\n",
    "    digit_sum = 0\n",
    "    n1= n\n",
    "    while(n1):\n",
    "        digit_sum = digit_sum + n1%10\n",
    "        n1 = n1//10\n",
    "    if n%digit_sum == 0:\n",
    "        return True\n",
    "    else:\n",
    "        return False\n",
    "\n",
    "i = int(input(\"Enter the number: \"))\n",
    "isHarshad(i)"
   ]
  },
  {
   "cell_type": "markdown",
   "id": "ffc176f4",
   "metadata": {},
   "source": [
    "6.\tWrite a Python program to print all pronic numbers between 1 and 100?"
   ]
  },
  {
   "cell_type": "code",
   "execution_count": 6,
   "id": "e817b3fe",
   "metadata": {},
   "outputs": [
    {
     "name": "stdout",
     "output_type": "stream",
     "text": [
      "enter staring value: 1\n",
      "enter ending value: 100\n",
      "2\t6\t12\t20\t30\t42\t56\t72\t90\t"
     ]
    }
   ],
   "source": [
    "a = int(input('enter staring value: '))\n",
    "b  = int(input('enter ending value: '))\n",
    "while True:\n",
    "    pronic = a**2+a\n",
    "    if pronic<b:\n",
    "        print(pronic, end = '\\t')\n",
    "    else:\n",
    "        break\n",
    "    a+=1"
   ]
  },
  {
   "cell_type": "code",
   "execution_count": null,
   "id": "a79d800f",
   "metadata": {},
   "outputs": [],
   "source": []
  }
 ],
 "metadata": {
  "kernelspec": {
   "display_name": "Python 3 (ipykernel)",
   "language": "python",
   "name": "python3"
  },
  "language_info": {
   "codemirror_mode": {
    "name": "ipython",
    "version": 3
   },
   "file_extension": ".py",
   "mimetype": "text/x-python",
   "name": "python",
   "nbconvert_exporter": "python",
   "pygments_lexer": "ipython3",
   "version": "3.9.13"
  }
 },
 "nbformat": 4,
 "nbformat_minor": 5
}
