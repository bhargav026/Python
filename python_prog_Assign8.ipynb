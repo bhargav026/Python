{
 "cells": [
  {
   "cell_type": "markdown",
   "id": "32e77d0b",
   "metadata": {},
   "source": [
    "1.\tWrite a Python Program to Add Two Matrices?"
   ]
  },
  {
   "cell_type": "code",
   "execution_count": 1,
   "id": "4f6920c0",
   "metadata": {},
   "outputs": [
    {
     "name": "stdout",
     "output_type": "stream",
     "text": [
      "The Sum of two matrix \n",
      "\n",
      "[[ 1  4  6]\n",
      " [ 7  5 88]\n",
      " [ 8  5 77]]  and \n",
      "\n",
      "[[12 43 74]\n",
      " [ 5  8  3]\n",
      " [ 8  9  9]]  is \n",
      "\n",
      "[[13 47 80]\n",
      " [12 13 91]\n",
      " [16 14 86]] \n"
     ]
    }
   ],
   "source": [
    "import numpy as np\n",
    "\n",
    "mat1 = np.array([[1,4,6],\n",
    "        [7,5,88],\n",
    "        [8,5,77]])\n",
    "mat2 = np.array([[12,43,74],\n",
    "        [5,8,3],\n",
    "        [8,9,9]])\n",
    "\n",
    "Matsum = np.add(mat1,mat2)\n",
    "print(\"The Sum of two matrix \\n\\n{}  and \\n\\n{}  is \\n\\n{} \".format(mat1,mat2,Matsum))"
   ]
  },
  {
   "cell_type": "markdown",
   "id": "e5c191d1",
   "metadata": {},
   "source": [
    "2.\tWrite a Python Program to Multiply Two Matrices?"
   ]
  },
  {
   "cell_type": "code",
   "execution_count": 2,
   "id": "30a8885e",
   "metadata": {},
   "outputs": [
    {
     "name": "stdout",
     "output_type": "stream",
     "text": [
      "The product of two matrix \n",
      "\n",
      "[[13 42 64]\n",
      " [ 3  7  4]\n",
      " [ 9  1  2]]  and \n",
      "\n",
      "[[ 2  4  7]\n",
      " [55 67  8]\n",
      " [ 8  9  1]]  is \n",
      "\n",
      "[[2848 3442  491]\n",
      " [ 423  517   81]\n",
      " [  89  121   73]] \n"
     ]
    }
   ],
   "source": [
    "import numpy as np\n",
    "\n",
    "mat1 = np.array([[13,42,64],\n",
    "        [3,7,4],\n",
    "        [9,1,2]])\n",
    "mat2 = np.array([[2,4,7],\n",
    "        [55,67,8],\n",
    "        [8,9,1]])\n",
    "\n",
    "mulMat = np.dot(mat1,mat2)\n",
    "print(\"The product of two matrix \\n\\n{}  and \\n\\n{}  is \\n\\n{} \".format(mat1,mat2,mulMat))"
   ]
  },
  {
   "cell_type": "markdown",
   "id": "e390c37b",
   "metadata": {},
   "source": [
    "3.\tWrite a Python Program to Transpose a Matrix?"
   ]
  },
  {
   "cell_type": "code",
   "execution_count": 3,
   "id": "d6392a50",
   "metadata": {},
   "outputs": [
    {
     "data": {
      "text/plain": [
       "array([[13,  3,  9],\n",
       "       [42,  7,  1],\n",
       "       [64,  4,  2]])"
      ]
     },
     "execution_count": 3,
     "metadata": {},
     "output_type": "execute_result"
    }
   ],
   "source": [
    "mat1 = np.array([[13,42,64],\n",
    "        [3,7,4],\n",
    "        [9,1,2]])\n",
    "mat1.transpose()"
   ]
  },
  {
   "cell_type": "markdown",
   "id": "9f6c0881",
   "metadata": {},
   "source": [
    "4.\tWrite a Python Program to Sort Words in Alphabetic Order?"
   ]
  },
  {
   "cell_type": "code",
   "execution_count": 4,
   "id": "5b219c8e",
   "metadata": {},
   "outputs": [
    {
     "name": "stdout",
     "output_type": "stream",
     "text": [
      "Enter string: i am bhargav\n",
      "am\n",
      "bhargav\n",
      "i\n"
     ]
    }
   ],
   "source": [
    "Arr = input(\"Enter string: \")\n",
    "\n",
    "words = Arr.split()\n",
    "words.sort()\n",
    "for word in words:\n",
    "    print(word)"
   ]
  },
  {
   "cell_type": "markdown",
   "id": "2dd8aa86",
   "metadata": {},
   "source": [
    "5.\tWrite a Python Program to Remove Punctuation From a String?"
   ]
  },
  {
   "cell_type": "code",
   "execution_count": 6,
   "id": "81c49dd0",
   "metadata": {},
   "outputs": [
    {
     "name": "stdout",
     "output_type": "stream",
     "text": [
      "Enter a string with punctuations\n",
      "  @media print {\n",
      "    .ms-editor-squiggles-container {\n",
      "      display:none !important;\n",
      "    }\n",
      "  }\n",
      "  .ms-editor-squiggles-container {\n",
      "    all: initial;\n",
      "  }jnf ijr89*(9y 98&Y7^6%&&&&^$$*))$ tUty987$%\n",
      "jnf ijr899y 98Y76 tUty987\n"
     ]
    }
   ],
   "source": [
    "punctuations = '''!()+-[]{};:'\"\\,<>./?@#$%^&*_~'''\n",
    "\n",
    "Arr = input(\"Enter a string with punctuations\")\n",
    "\n",
    "\n",
    "rem_punc = \"\"\n",
    "for i in Arr:\n",
    "    if i not in punctuations:\n",
    "        rem_punc = rem_punc + i\n",
    "\n",
    "# display \n",
    "print(rem_punc)"
   ]
  },
  {
   "cell_type": "code",
   "execution_count": null,
   "id": "26e09df8",
   "metadata": {},
   "outputs": [],
   "source": []
  }
 ],
 "metadata": {
  "kernelspec": {
   "display_name": "Python 3 (ipykernel)",
   "language": "python",
   "name": "python3"
  },
  "language_info": {
   "codemirror_mode": {
    "name": "ipython",
    "version": 3
   },
   "file_extension": ".py",
   "mimetype": "text/x-python",
   "name": "python",
   "nbconvert_exporter": "python",
   "pygments_lexer": "ipython3",
   "version": "3.9.13"
  }
 },
 "nbformat": 4,
 "nbformat_minor": 5
}
