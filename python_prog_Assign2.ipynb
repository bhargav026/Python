{
 "cells": [
  {
   "cell_type": "markdown",
   "id": "f0687a7b",
   "metadata": {},
   "source": [
    "1. Write a Python program to convert kilometers to miles?"
   ]
  },
  {
   "cell_type": "code",
   "execution_count": 8,
   "id": "dcba8f5f",
   "metadata": {},
   "outputs": [
    {
     "name": "stdout",
     "output_type": "stream",
     "text": [
      "enter the kilometers to convert into miles: 87\n",
      "87.0 kms is equal to 54.059277 miles\n"
     ]
    }
   ],
   "source": [
    "no_of_km = float(input('enter the kilometers to convert into miles: '))\n",
    "no_of_miles  = 0.621371*no_of_km\n",
    "print(f\"{no_of_km} km is equal to {no_of_miles} miles\")"
   ]
  },
  {
   "cell_type": "markdown",
   "id": "cf8967be",
   "metadata": {},
   "source": [
    "2.\tWrite a Python program to convert Celsius to Fahrenheit?"
   ]
  },
  {
   "cell_type": "code",
   "execution_count": 12,
   "id": "eaead15b",
   "metadata": {},
   "outputs": [
    {
     "name": "stdout",
     "output_type": "stream",
     "text": [
      "enter Celsius Temparature: 36\n",
      "36.0 Celsius is equal to 96.8 Fahrenheit\n"
     ]
    }
   ],
   "source": [
    "cel = float(input('enter Celsius Temparature: '))\n",
    "Fh = (cel * 9/5) + 32 \n",
    "print(f\"{cel} Celsius is equal to {Fh} Fahrenheit\")"
   ]
  },
  {
   "cell_type": "markdown",
   "id": "2b15be78",
   "metadata": {},
   "source": [
    "3.\tWrite a Python program to display calendar?"
   ]
  },
  {
   "cell_type": "code",
   "execution_count": 16,
   "id": "d6fc91fe",
   "metadata": {},
   "outputs": [
    {
     "name": "stdout",
     "output_type": "stream",
     "text": [
      "Enter year = 1997\n",
      "Enter month in number = 09\n",
      "   September 1997\n",
      "Mo Tu We Th Fr Sa Su\n",
      " 1  2  3  4  5  6  7\n",
      " 8  9 10 11 12 13 14\n",
      "15 16 17 18 19 20 21\n",
      "22 23 24 25 26 27 28\n",
      "29 30\n",
      "\n"
     ]
    }
   ],
   "source": [
    "import calendar\n",
    "\n",
    "year = int(input(\"Enter year = \"))\n",
    "month = int(input(\"Enter month in number = \"))\n",
    "print(calendar.month(year,month))"
   ]
  },
  {
   "cell_type": "markdown",
   "id": "d0e44956",
   "metadata": {},
   "source": [
    "4.\tWrite a Python program to solve quadratic equation?"
   ]
  },
  {
   "cell_type": "code",
   "execution_count": 19,
   "id": "636ca1a6",
   "metadata": {},
   "outputs": [
    {
     "name": "stdout",
     "output_type": "stream",
     "text": [
      "enter a value: 1\n",
      "enter b value: 5\n",
      "enter c value: 6\n",
      "solution for 1.0X^2+5.0X+6.0 = 0 are (-2+0j),(-3+0j)\n"
     ]
    }
   ],
   "source": [
    "import cmath\n",
    "\n",
    "#let aX^2+bX+c = 0 is quadratic equation\n",
    "a = float(input('enter a value: '))\n",
    "b = float(input('enter b value: '))\n",
    "c = float(input('enter c value: '))\n",
    "sol1 = (-b + cmath.sqrt((b**2)-(4*a*c)))/(2*a)\n",
    "sol2 = (-b - cmath.sqrt((b**2)-(4*a*c)))/(2*a)\n",
    "print(f\"solution for {a}X^2+{b}X+{c} = 0 are {sol1},{sol2}\")"
   ]
  },
  {
   "cell_type": "markdown",
   "id": "b86fbe35",
   "metadata": {},
   "source": [
    "5.\tWrite a Python program to swap two variables without temp variable?"
   ]
  },
  {
   "cell_type": "code",
   "execution_count": 22,
   "id": "9c383bee",
   "metadata": {},
   "outputs": [
    {
     "name": "stdout",
     "output_type": "stream",
     "text": [
      "First Variable =87\n",
      "Second Variable =584\n",
      "584 , 87\n"
     ]
    }
   ],
   "source": [
    "first_variable = int(input(\"First Variable =\"))\n",
    "second_variable = int(input(\"Second Variable =\"))\n",
    "first_variable , second_variable = second_variable , first_variable\n",
    "print(first_variable,',',second_variable)"
   ]
  },
  {
   "cell_type": "code",
   "execution_count": null,
   "id": "ce267287",
   "metadata": {},
   "outputs": [],
   "source": []
  }
 ],
 "metadata": {
  "kernelspec": {
   "display_name": "Python 3 (ipykernel)",
   "language": "python",
   "name": "python3"
  },
  "language_info": {
   "codemirror_mode": {
    "name": "ipython",
    "version": 3
   },
   "file_extension": ".py",
   "mimetype": "text/x-python",
   "name": "python",
   "nbconvert_exporter": "python",
   "pygments_lexer": "ipython3",
   "version": "3.9.13"
  }
 },
 "nbformat": 4,
 "nbformat_minor": 5
}
