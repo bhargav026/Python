{
 "cells": [
  {
   "cell_type": "markdown",
   "id": "fc1e2612",
   "metadata": {},
   "source": [
    "1.\tWrite a Python Program to Find LCM?"
   ]
  },
  {
   "cell_type": "code",
   "execution_count": 1,
   "id": "479e5728",
   "metadata": {},
   "outputs": [
    {
     "data": {
      "text/plain": [
       "24"
      ]
     },
     "execution_count": 1,
     "metadata": {},
     "output_type": "execute_result"
    }
   ],
   "source": [
    "from functools import reduce\n",
    "def cal_lcm(a,b):\n",
    "    if a > b:\n",
    "        large = a\n",
    "    else:\n",
    "        large = b\n",
    "    while(True):\n",
    "        if (large % a ==0) and (large%b ==0):\n",
    "            return large\n",
    "        else:\n",
    "            large+=1\n",
    "def lcm(*args):\n",
    "    if len(args) == 1:\n",
    "        return args[0]\n",
    "    while (0 in args):\n",
    "        print('lcm not exits')\n",
    "        break\n",
    "    return reduce(cal_lcm, args)\n",
    "\n",
    "lcm(2,8,4,6)"
   ]
  },
  {
   "cell_type": "markdown",
   "id": "e5c191d1",
   "metadata": {},
   "source": [
    "2.\tWrite a Python Program to Find HCF?"
   ]
  },
  {
   "cell_type": "code",
   "execution_count": 2,
   "id": "30a8885e",
   "metadata": {},
   "outputs": [
    {
     "data": {
      "text/plain": [
       "4"
      ]
     },
     "execution_count": 2,
     "metadata": {},
     "output_type": "execute_result"
    }
   ],
   "source": [
    "def cal_hcf(a,b):\n",
    "    if a == 0 or b == 0:\n",
    "        return max(a,b)\n",
    "    while(b):\n",
    "        a,b = b, a%b\n",
    "    return a\n",
    "def hcf(*args):\n",
    "    if len(args) == 1:\n",
    "        return args[0]\n",
    "    return reduce(cal_hcf,args)\n",
    "    \n",
    "hcf(0,4,8)"
   ]
  },
  {
   "cell_type": "markdown",
   "id": "e390c37b",
   "metadata": {},
   "source": [
    "3.\tWrite a Python Program to Convert Decimal to Binary, Octal and Hexadecimal?"
   ]
  },
  {
   "cell_type": "code",
   "execution_count": 3,
   "id": "d6392a50",
   "metadata": {},
   "outputs": [
    {
     "name": "stdout",
     "output_type": "stream",
     "text": [
      "enter a number to convert: 76\n",
      "1001100\n",
      "114\n",
      "4C\n"
     ]
    }
   ],
   "source": [
    "def encode(n, radix):\n",
    "    encoded_value = {'0':'0','1':'1','2':'2','3':'3','4':'4','5':'5','6':'6','7':'7','8':'8','9':'9','10':'A','11':'B','12':'C','13':'D','14':'E','15':'F'}\n",
    "    x= n\n",
    "    c =''\n",
    "    while(n):\n",
    "        c=c+encoded_value[str(int(n%radix))]\n",
    "        n = n//radix\n",
    "    return c[::-1]\n",
    "\n",
    "def deci2bin(n):\n",
    "    return encode(n,2)\n",
    "def deci2oct(n):\n",
    "    return encode(n,8)\n",
    "def deci2hexa(n):\n",
    "    return encode(n,16)\n",
    "\n",
    "n = int(input('enter a number to convert: '))\n",
    "print(deci2bin(n))\n",
    "print(deci2oct(n))\n",
    "print(deci2hexa(n))\n",
    "\n",
    "\n",
    "        \n",
    "        \n",
    "        "
   ]
  },
  {
   "cell_type": "markdown",
   "id": "9f6c0881",
   "metadata": {},
   "source": [
    "4.\tWrite a Python Program To Find ASCII value of a character?"
   ]
  },
  {
   "cell_type": "code",
   "execution_count": 4,
   "id": "5b219c8e",
   "metadata": {},
   "outputs": [
    {
     "name": "stdout",
     "output_type": "stream",
     "text": [
      "enter a character: k\n"
     ]
    },
    {
     "data": {
      "text/plain": [
       "107"
      ]
     },
     "execution_count": 4,
     "metadata": {},
     "output_type": "execute_result"
    }
   ],
   "source": [
    "n = input('enter a character: ')\n",
    "ord(n) # this function returns ASCII value of length 1 character but not like enter, tab , esc keys"
   ]
  },
  {
   "cell_type": "markdown",
   "id": "2dd8aa86",
   "metadata": {},
   "source": [
    "5.\tWrite a Python Program to Make a Simple Calculator with 4 basic mathematical operations?"
   ]
  },
  {
   "cell_type": "code",
   "execution_count": 5,
   "id": "81c49dd0",
   "metadata": {},
   "outputs": [
    {
     "name": "stdout",
     "output_type": "stream",
     "text": [
      "enter a value: 15\n",
      "enter symbol: /\n",
      "enter b value: 2\n"
     ]
    },
    {
     "data": {
      "text/plain": [
       "7.5"
      ]
     },
     "execution_count": 5,
     "metadata": {},
     "output_type": "execute_result"
    }
   ],
   "source": [
    "def calculator(a,b,op):\n",
    "    if op =='+':\n",
    "        return a+b\n",
    "    elif op =='-':\n",
    "        return a-b\n",
    "    elif op == '*':\n",
    "        return a*b\n",
    "    elif op == '/':\n",
    "        if b == 0 and a == 0:\n",
    "            return 'undefined'\n",
    "        elif b == 0:\n",
    "            return 'inf'\n",
    "        else: \n",
    "            return a/b\n",
    "    else:\n",
    "        return 'operation is not defined'\n",
    "\n",
    "a=float(input('enter a value: '))\n",
    "op = input('enter symbol: ')\n",
    "b = float(input('enter b value: '))\n",
    "calculator(a, b, op)\n",
    "            "
   ]
  },
  {
   "cell_type": "code",
   "execution_count": null,
   "id": "803d1c93",
   "metadata": {},
   "outputs": [],
   "source": []
  },
  {
   "cell_type": "code",
   "execution_count": null,
   "id": "e9ad1e39",
   "metadata": {},
   "outputs": [],
   "source": []
  }
 ],
 "metadata": {
  "kernelspec": {
   "display_name": "Python 3 (ipykernel)",
   "language": "python",
   "name": "python3"
  },
  "language_info": {
   "codemirror_mode": {
    "name": "ipython",
    "version": 3
   },
   "file_extension": ".py",
   "mimetype": "text/x-python",
   "name": "python",
   "nbconvert_exporter": "python",
   "pygments_lexer": "ipython3",
   "version": "3.9.13"
  }
 },
 "nbformat": 4,
 "nbformat_minor": 5
}
