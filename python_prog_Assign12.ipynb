{
 "cells": [
  {
   "cell_type": "markdown",
   "id": "fc1e2612",
   "metadata": {},
   "source": [
    "1.\tWrite a Python program to Extract Unique values dictionary values?"
   ]
  },
  {
   "cell_type": "code",
   "execution_count": 1,
   "id": "479e5728",
   "metadata": {},
   "outputs": [
    {
     "data": {
      "text/plain": [
       "[1, 'jicbw', [5, 'jd', True], 'kjnjc']"
      ]
     },
     "execution_count": 1,
     "metadata": {},
     "output_type": "execute_result"
    }
   ],
   "source": [
    "dict1 = {'a':1, 'b':'jicbw','c':[5,'jd',True],'d':'kjnjc','e':1}\n",
    "def unique_values(dict1):\n",
    "    unique= []\n",
    "    for i in dict1.values():\n",
    "        if i not in unique:\n",
    "            unique.append(i)\n",
    "    return unique\n",
    "unique_values(dict1)"
   ]
  },
  {
   "cell_type": "markdown",
   "id": "e5c191d1",
   "metadata": {},
   "source": [
    "2.\tWrite a Python program to find the sum of all items in a dictionary?"
   ]
  },
  {
   "cell_type": "code",
   "execution_count": 2,
   "id": "30a8885e",
   "metadata": {},
   "outputs": [
    {
     "data": {
      "text/plain": [
       "151"
      ]
     },
     "execution_count": 2,
     "metadata": {},
     "output_type": "execute_result"
    }
   ],
   "source": [
    "dict2 = {'a' : 22, 'b' :  21, 'c' : 52, 'd' : 56}\n",
    "\n",
    "sum = 0\n",
    "for i in dict2.values():\n",
    "    sum = sum + i\n",
    "sum"
   ]
  },
  {
   "cell_type": "markdown",
   "id": "e390c37b",
   "metadata": {},
   "source": [
    "3.\tWrite a Python program to Merging two Dictionaries?"
   ]
  },
  {
   "cell_type": "code",
   "execution_count": 3,
   "id": "d6392a50",
   "metadata": {},
   "outputs": [
    {
     "data": {
      "text/plain": [
       "{'a': 22, 'b': 21, 'c': 52, 'd': 56, 'e': 1}"
      ]
     },
     "execution_count": 3,
     "metadata": {},
     "output_type": "execute_result"
    }
   ],
   "source": [
    "dict1.update(dict2)\n",
    "dict1 \n",
    "# as the dict2 has the same keys as dict1 , the values of respective keys are updated.\n",
    "#when the keys are different the new key-value pair added to dict1"
   ]
  },
  {
   "cell_type": "code",
   "execution_count": 4,
   "id": "94029d82",
   "metadata": {},
   "outputs": [
    {
     "data": {
      "text/plain": [
       "{'a': 22, 'b': 21, 'c': 52, 'd': 56, 'e': 1, '1': 'a', 'ni': False}"
      ]
     },
     "execution_count": 4,
     "metadata": {},
     "output_type": "execute_result"
    }
   ],
   "source": [
    "dict3 = {'1':'a', 'ni':False}\n",
    "dict1.update(dict3)\n",
    "dict1"
   ]
  },
  {
   "cell_type": "markdown",
   "id": "9f6c0881",
   "metadata": {},
   "source": [
    "4.\tWrite a Python program to convert key-values list to flat dictionary?"
   ]
  },
  {
   "cell_type": "code",
   "execution_count": 5,
   "id": "5b219c8e",
   "metadata": {},
   "outputs": [
    {
     "data": {
      "text/plain": [
       "{'key1': 1, 'key2': 4, 'key3': 'jisbv', 'key4': [True, 'jinn', (6+3j)]}"
      ]
     },
     "execution_count": 5,
     "metadata": {},
     "output_type": "execute_result"
    }
   ],
   "source": [
    "def make_dict(keys,values):\n",
    "    var = {}\n",
    "    for i in range(len(keys)):\n",
    "        var[keys[i]] = values[i]\n",
    "    return var\n",
    "keys = ['key1', 'key2','key3','key4']\n",
    "values = [1, 4,'jisbv',[True,'jinn',6+3j]]\n",
    "make_dict(keys, values)\n"
   ]
  },
  {
   "cell_type": "code",
   "execution_count": 6,
   "id": "426f8eff",
   "metadata": {},
   "outputs": [
    {
     "data": {
      "text/plain": [
       "{'key1': 1, 'key2': 4, 'key3': 'jisbv', 'key4': [True, 'jinn', (6+3j)]}"
      ]
     },
     "execution_count": 6,
     "metadata": {},
     "output_type": "execute_result"
    }
   ],
   "source": [
    "dict(zip(keys, values)) #using zip method"
   ]
  },
  {
   "cell_type": "markdown",
   "id": "2dd8aa86",
   "metadata": {},
   "source": [
    "5.\tWrite a Python program to insertion at the beginning in OrderedDict?"
   ]
  },
  {
   "cell_type": "code",
   "execution_count": 7,
   "id": "81c49dd0",
   "metadata": {},
   "outputs": [
    {
     "data": {
      "text/plain": [
       "OrderedDict([('f', 56),\n",
       "             ('a', 22),\n",
       "             ('b', 21),\n",
       "             ('c', 52),\n",
       "             ('d', 56),\n",
       "             ('e', 1),\n",
       "             ('1', 'a'),\n",
       "             ('ni', False)])"
      ]
     },
     "execution_count": 7,
     "metadata": {},
     "output_type": "execute_result"
    }
   ],
   "source": [
    "from collections import OrderedDict\n",
    "dict1 = OrderedDict(dict1)\n",
    "dict1.update({'f':56})\n",
    "dict1.move_to_end('f',False) \n",
    "dict1"
   ]
  },
  {
   "cell_type": "markdown",
   "id": "ffc176f4",
   "metadata": {},
   "source": [
    "6.\tWrite a Python program to check order of character in string using OrderedDict()?"
   ]
  },
  {
   "cell_type": "code",
   "execution_count": 8,
   "id": "e817b3fe",
   "metadata": {},
   "outputs": [
    {
     "data": {
      "text/plain": [
       "False"
      ]
     },
     "execution_count": 8,
     "metadata": {},
     "output_type": "execute_result"
    }
   ],
   "source": [
    "from collections import OrderedDict\n",
    "\n",
    "def check_order(string, characters):\n",
    "    dict1 = OrderedDict.fromkeys(string) # create empty OrderedDict,output will be like {'a': None,'b': None, 'c': None}\n",
    "    chlen = 0\n",
    "    for key,value in dict1.items(): \n",
    "        if (key == characters[chlen]): \n",
    "            chlen+=1\n",
    "        if chlen == len(characters):\n",
    "            return True\n",
    "    return False          \n",
    "    \n",
    "string= 'engineers rock'\n",
    "characters = 'ne'\n",
    "check_order(string, characters) # the 'e' is comes before the 'n', the order of characters is 'en', not 'ne'"
   ]
  },
  {
   "cell_type": "markdown",
   "id": "c3743ad4",
   "metadata": {},
   "source": [
    "7.\tWrite a Python program to sort Python Dictionaries by Key or Value?"
   ]
  },
  {
   "cell_type": "code",
   "execution_count": 9,
   "id": "46855084",
   "metadata": {},
   "outputs": [
    {
     "data": {
      "text/plain": [
       "{4: 2, 9: 5, 7: 8, 6: 9}"
      ]
     },
     "execution_count": 9,
     "metadata": {},
     "output_type": "execute_result"
    }
   ],
   "source": [
    "\n",
    "def sort_dict(arg1 , arg2):\n",
    "    '''This function sorts the given dictionary by key or value as per user requirement\n",
    "    :param arg1: dict, thhe input dictionary need to be sorted\n",
    "    :param arg2: 'key' or 'value', choose on what basis the dict has to be sorted\n",
    "    :return : sorted dictionary\n",
    "    '''\n",
    "    dic = {}\n",
    "    if arg2 == 'key':\n",
    "        for i in sorted(arg1.keys()):\n",
    "            dic.update({i:arg1[i]})\n",
    "    elif arg2 == 'value':\n",
    "        key_pos = list(arg1.keys())\n",
    "        val_pos = list(arg1.values())\n",
    "        for i in sorted(arg1.values()):\n",
    "            key  = key_pos[val_pos.index(i)]\n",
    "            dic.update({key:i})\n",
    "    return dic\n",
    "dict1 = {4:5 ,7:8 ,4:3 ,6:9 ,9:5 ,4:2}\n",
    "sort_dict(dict1,'value')"
   ]
  },
  {
   "cell_type": "code",
   "execution_count": 10,
   "id": "a1528ea4",
   "metadata": {},
   "outputs": [
    {
     "data": {
      "text/plain": [
       "{4: 2, 6: 9, 7: 8, 9: 5}"
      ]
     },
     "execution_count": 10,
     "metadata": {},
     "output_type": "execute_result"
    }
   ],
   "source": [
    "sort_dict(dict1,'key')"
   ]
  },
  {
   "cell_type": "code",
   "execution_count": 11,
   "id": "afed24b8",
   "metadata": {},
   "outputs": [
    {
     "data": {
      "text/plain": [
       "[(4, 2), (6, 9), (7, 8), (9, 5)]"
      ]
     },
     "execution_count": 11,
     "metadata": {},
     "output_type": "execute_result"
    }
   ],
   "source": [
    "#we can use following \n",
    "sorted(dict1.items())"
   ]
  },
  {
   "cell_type": "code",
   "execution_count": 12,
   "id": "5ae653d2",
   "metadata": {},
   "outputs": [
    {
     "data": {
      "text/plain": [
       "[4, 6, 7, 9]"
      ]
     },
     "execution_count": 12,
     "metadata": {},
     "output_type": "execute_result"
    }
   ],
   "source": [
    "sorted(dict1.keys())"
   ]
  },
  {
   "cell_type": "code",
   "execution_count": 13,
   "id": "71bba66e",
   "metadata": {},
   "outputs": [
    {
     "data": {
      "text/plain": [
       "[2, 5, 8, 9]"
      ]
     },
     "execution_count": 13,
     "metadata": {},
     "output_type": "execute_result"
    }
   ],
   "source": [
    "sorted(dict1.values())"
   ]
  },
  {
   "cell_type": "markdown",
   "id": "3b92d4cc",
   "metadata": {},
   "source": [
    "The above statements helps us to get sorted value but does not sorts the dictionary "
   ]
  }
 ],
 "metadata": {
  "kernelspec": {
   "display_name": "Python 3 (ipykernel)",
   "language": "python",
   "name": "python3"
  },
  "language_info": {
   "codemirror_mode": {
    "name": "ipython",
    "version": 3
   },
   "file_extension": ".py",
   "mimetype": "text/x-python",
   "name": "python",
   "nbconvert_exporter": "python",
   "pygments_lexer": "ipython3",
   "version": "3.9.13"
  }
 },
 "nbformat": 4,
 "nbformat_minor": 5
}
