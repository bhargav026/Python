{
 "cells": [
  {
   "cell_type": "markdown",
   "id": "fc1e2612",
   "metadata": {},
   "source": [
    "1.\tWrite a Python Program to Find the Factorial of a Number?"
   ]
  },
  {
   "cell_type": "code",
   "execution_count": 1,
   "id": "479e5728",
   "metadata": {},
   "outputs": [
    {
     "name": "stdout",
     "output_type": "stream",
     "text": [
      "enter a number to find factorial: 7\n"
     ]
    },
    {
     "data": {
      "text/plain": [
       "5040"
      ]
     },
     "execution_count": 1,
     "metadata": {},
     "output_type": "execute_result"
    }
   ],
   "source": [
    "def factorial(n):\n",
    "    \"\"\" This function find out the factorial of given number\n",
    "    :param n: INT,  positive integer\n",
    "    :return : factorial of given number\n",
    "    \"\"\"\n",
    "    if n<0:\n",
    "        print('no factorial exists for -ve numbers')\n",
    "    elif n == 1:\n",
    "        return n\n",
    "    elif n ==0:\n",
    "        return 1\n",
    "    else:\n",
    "        return n*factorial(n-1)\n",
    "    \n",
    "n = int(input('enter a number to find factorial: '))\n",
    "factorial(n)"
   ]
  },
  {
   "cell_type": "markdown",
   "id": "e5c191d1",
   "metadata": {},
   "source": [
    "2.\tWrite a Python Program to Display the multiplication Table?"
   ]
  },
  {
   "cell_type": "code",
   "execution_count": 2,
   "id": "30a8885e",
   "metadata": {},
   "outputs": [
    {
     "name": "stdout",
     "output_type": "stream",
     "text": [
      "enter a number for mul table: 9\n",
      "enter a number for length of mul table: 10\n",
      "9*1=9\n",
      "9*2=18\n",
      "9*3=27\n",
      "9*4=36\n",
      "9*5=45\n",
      "9*6=54\n",
      "9*7=63\n",
      "9*8=72\n",
      "9*9=81\n",
      "9*10=90\n"
     ]
    }
   ],
   "source": [
    "def mul_table(n, length):\n",
    "    \"\"\"\n",
    "    this function takes any number of lists and concatnates them into single list\n",
    "    :param n: INT \n",
    "    :param length: INT\n",
    "    :return : prints the the mutliplication upto given length \"\"\"\n",
    "    for i in range(1,length+1):\n",
    "        print(f\"{n}*{i}={n*i}\")\n",
    "\n",
    "n = int(input('enter a number for mul table: '))\n",
    "length = int(input('enter a number for length of mul table: '))\n",
    "mul_table(n,length)"
   ]
  },
  {
   "cell_type": "markdown",
   "id": "e390c37b",
   "metadata": {},
   "source": [
    "3.\tWrite a Python Program to Print the Fibonacci sequence?"
   ]
  },
  {
   "cell_type": "code",
   "execution_count": 3,
   "id": "d6392a50",
   "metadata": {},
   "outputs": [
    {
     "name": "stdout",
     "output_type": "stream",
     "text": [
      "enter a number: 5\n",
      "1\t1\t2\t3\t5\t"
     ]
    }
   ],
   "source": [
    "def fibo(n):\n",
    "    \"\"\" This function prints the fibonanci series up to given length\n",
    "    :param n: INT , lenth of fibonanci\n",
    "    :return :None\n",
    "    \"\"\"\n",
    "    a,b = 1,1\n",
    "    if n < 1:\n",
    "        print(\"No elements exits\")\n",
    "    elif n ==1:\n",
    "        print(a)\n",
    "    elif n == 2:\n",
    "        print(a,b)\n",
    "    else:\n",
    "        print(a,end ='\\t')\n",
    "        print(b,end ='\\t')\n",
    "        for i in range(2,n):\n",
    "            print(a+b, end = '\\t')\n",
    "            a, b = b, a+b\n",
    "\n",
    "n = int(input('enter a number: '))\n",
    "fibo(n)\n",
    "        "
   ]
  },
  {
   "cell_type": "markdown",
   "id": "9f6c0881",
   "metadata": {},
   "source": [
    "4.\tWrite a Python Program to Check Armstrong Number?"
   ]
  },
  {
   "cell_type": "code",
   "execution_count": 4,
   "id": "5b219c8e",
   "metadata": {},
   "outputs": [
    {
     "name": "stdout",
     "output_type": "stream",
     "text": [
      "enter a number: 153\n"
     ]
    },
    {
     "data": {
      "text/plain": [
       "True"
      ]
     },
     "execution_count": 4,
     "metadata": {},
     "output_type": "execute_result"
    }
   ],
   "source": [
    "def check_arm(n):\n",
    "    \"\"\" This function checks the given number is armstrong number or not\n",
    "    :param n: INT \n",
    "    :return :bool\n",
    "    \"\"\"\n",
    "    if n ==0:\n",
    "        return True\n",
    "    count = 0\n",
    "    digit = n % 10\n",
    "    for i in str(n):\n",
    "        count = count + int(i)**digit\n",
    "    return n == count\n",
    "\n",
    "n = int(input('enter a number: '))\n",
    "check_arm(n)\n",
    "    "
   ]
  },
  {
   "cell_type": "markdown",
   "id": "2dd8aa86",
   "metadata": {},
   "source": [
    "5.\tWrite a Python Program to Find Armstrong Number in an Interval?"
   ]
  },
  {
   "cell_type": "code",
   "execution_count": 5,
   "id": "81c49dd0",
   "metadata": {},
   "outputs": [
    {
     "name": "stdout",
     "output_type": "stream",
     "text": [
      "enter strating number: 0\n",
      "enter ending number: 10000\n",
      "0\t1\t153\t1634\t9474\t"
     ]
    }
   ],
   "source": [
    "def arms(a,b):\n",
    "    for i in range(a,b):\n",
    "        if check_arm(i) == True:\n",
    "            print(i, end= '\\t')\n",
    "a = int(input('enter strating number: '))\n",
    "b = int(input('enter ending number: '))\n",
    "arms(a,b)"
   ]
  },
  {
   "cell_type": "markdown",
   "id": "188ec1f9",
   "metadata": {},
   "source": [
    "6.\tWrite a Python Program to Find the Sum of Natural Numbers"
   ]
  },
  {
   "cell_type": "code",
   "execution_count": 6,
   "id": "55d2aa41",
   "metadata": {},
   "outputs": [
    {
     "name": "stdout",
     "output_type": "stream",
     "text": [
      "enter n value: 14\n"
     ]
    },
    {
     "data": {
      "text/plain": [
       "105.0"
      ]
     },
     "execution_count": 6,
     "metadata": {},
     "output_type": "execute_result"
    }
   ],
   "source": [
    "def sum_of_naturals(n):\n",
    "    \"\"\" This function calculates the first n natural numbers\n",
    "    :param n: INT\n",
    "    :return :float \n",
    "    \"\"\"\n",
    "    return n*(n+1)/2\n",
    "n = int(input('enter n value: '))\n",
    "sum_of_naturals(n)"
   ]
  },
  {
   "cell_type": "code",
   "execution_count": null,
   "id": "0e91b09b",
   "metadata": {},
   "outputs": [],
   "source": []
  }
 ],
 "metadata": {
  "kernelspec": {
   "display_name": "Python 3 (ipykernel)",
   "language": "python",
   "name": "python3"
  },
  "language_info": {
   "codemirror_mode": {
    "name": "ipython",
    "version": 3
   },
   "file_extension": ".py",
   "mimetype": "text/x-python",
   "name": "python",
   "nbconvert_exporter": "python",
   "pygments_lexer": "ipython3",
   "version": "3.9.13"
  }
 },
 "nbformat": 4,
 "nbformat_minor": 5
}
