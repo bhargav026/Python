{
 "cells": [
  {
   "cell_type": "markdown",
   "id": "c7722603",
   "metadata": {},
   "source": [
    "1. What is the relationship between def statements and lambda expressions ?"
   ]
  },
  {
   "cell_type": "markdown",
   "id": "a2710c24",
   "metadata": {},
   "source": [
    "* Keyword def that marks the start of the function header. A function name to uniquely identify the function.\n",
    "Function naming follows the same rules of writing identifiers in Python\n",
    "\n",
    "* Lambdas are one-line methods without a name or we can say anonymous Func\n",
    "They work practically the same as any other method in Python Lambdas differ from normal Python methods because they can have only one expression, can't contain any statements and their return type is a function object"
   ]
  },
  {
   "cell_type": "markdown",
   "id": "a69c79e0",
   "metadata": {},
   "source": [
    "2. What is the benefit of lambda?"
   ]
  },
  {
   "cell_type": "markdown",
   "id": "92d91249",
   "metadata": {},
   "source": [
    "* Fewer Lines of Code and executes faster than function calls and makes code eaisly readable."
   ]
  },
  {
   "cell_type": "markdown",
   "id": "28666b5b",
   "metadata": {},
   "source": [
    "3. Compare and contrast map, filter, and reduce."
   ]
  },
  {
   "cell_type": "markdown",
   "id": "29537c3a",
   "metadata": {},
   "source": [
    "* Syntax : map(function, iterable(s)). \n",
    "    * map applies as a transformation to an element.\n",
    "The map() function iterates through all items in the given iterable and executes the function we passed as an argument on each of them. \n",
    "\n",
    "* Syntax : filter(function, iterable(s)). \n",
    "    * filter accumulates only elements matching a condition.\n",
    "filter() forms a new list that contains only elements that satisfy a certain condition, i.e. the function we passed returns True \n",
    "\n",
    "* Syntax : reduce(function, sequence[, initial]).  \n",
    "    * reduce accumulates all elements to a single value, by using immutable values\n",
    "reduce() works by calling the function we passed for the first two items in the sequence. The result returned by the function is used in another call to function alongside with the next (third in this case), element "
   ]
  },
  {
   "cell_type": "markdown",
   "id": "3301d07d",
   "metadata": {},
   "source": [
    "4. What are function annotations, and how are they used?"
   ]
  },
  {
   "cell_type": "markdown",
   "id": "193adc3a",
   "metadata": {},
   "source": [
    "* Function annotations are adds a feature that allows you to add arbitrary metadata to function parameters and return value. \n",
    "* The primary purpose was to have a standard way to link metadata to function parameters and return value\n",
    "* Function annotations are completely optional both for parameters and return value\n"
   ]
  },
  {
   "cell_type": "code",
   "execution_count": 1,
   "id": "964b75d6",
   "metadata": {},
   "outputs": [],
   "source": [
    "def func(x:'annotating x', y: 'annotating y', z: int) -> float: print(x + y + z)"
   ]
  },
  {
   "cell_type": "code",
   "execution_count": 2,
   "id": "24f2d14d",
   "metadata": {},
   "outputs": [
    {
     "name": "stdout",
     "output_type": "stream",
     "text": [
      "8\n"
     ]
    }
   ],
   "source": [
    "func(1,2,5)"
   ]
  },
  {
   "cell_type": "code",
   "execution_count": 3,
   "id": "584c6b94",
   "metadata": {},
   "outputs": [
    {
     "name": "stdout",
     "output_type": "stream",
     "text": [
      "Function-Annotation\n"
     ]
    }
   ],
   "source": [
    "func('Function','-','Annotation')"
   ]
  },
  {
   "cell_type": "code",
   "execution_count": 4,
   "id": "ebeb6ee1",
   "metadata": {},
   "outputs": [
    {
     "data": {
      "text/plain": [
       "{'x': 'annotating x', 'y': 'annotating y', 'z': int, 'return': float}"
      ]
     },
     "execution_count": 4,
     "metadata": {},
     "output_type": "execute_result"
    }
   ],
   "source": [
    "func.__annotations__"
   ]
  },
  {
   "cell_type": "markdown",
   "id": "dbbd4ef9",
   "metadata": {},
   "source": [
    "5. What are recursive functions, and how are they used?"
   ]
  },
  {
   "cell_type": "markdown",
   "id": "d0d0b7ee",
   "metadata": {},
   "source": [
    " * A recursive function is a function that calls itself during its execution."
   ]
  },
  {
   "cell_type": "code",
   "execution_count": 5,
   "id": "d51eb504",
   "metadata": {},
   "outputs": [
    {
     "data": {
      "text/plain": [
       "6"
      ]
     },
     "execution_count": 5,
     "metadata": {},
     "output_type": "execute_result"
    }
   ],
   "source": [
    "def fact(x):\n",
    "    if x == 1 :\n",
    "        return 1\n",
    "    else :\n",
    "        return x * fact(x-1) # recurtion\n",
    "    \n",
    "fact(3)"
   ]
  },
  {
   "cell_type": "markdown",
   "id": "0bbc3f75",
   "metadata": {},
   "source": [
    "6. What are some general design guidelines for coding functions?"
   ]
  },
  {
   "cell_type": "markdown",
   "id": "4de330ba",
   "metadata": {},
   "source": [
    "1. Use 4-space indentation and no tabs.\n",
    "2. Use docstrings\n",
    "3. Wrap linethat they don’t exceed 79 characters\n",
    "4. Use of regular and updated comments are valuable to both the coders and users\n",
    "5. Use of trailing commas : in case of tuple -> ('good',)\n",
    "6. Use Python’s default UTF-8 or ASCII encodings and not any fancy encodings\n",
    "7. Naming Conventions\n",
    "8. Characters that should not be used for identifiers\n",
    "9. Don’t use non-ASCII characters in identifiers"
   ]
  },
  {
   "cell_type": "markdown",
   "id": "f3b3006a",
   "metadata": {},
   "source": [
    "7. Name three or more ways that functions can communicate results to a caller."
   ]
  },
  {
   "cell_type": "markdown",
   "id": "3d5d9d84",
   "metadata": {},
   "source": [
    "1. A function can use ‘return’ to return any object, including tuples, custom objects etc\n",
    "2. A function without an explicit ‘return’ statement will return None when the function exits\n",
    "3. A function can also use yield, which isn’t really a return in the normal way, but is a way for a function to pass data back to the caller while still running. A function which uses yield is called a generator."
   ]
  },
  {
   "cell_type": "code",
   "execution_count": null,
   "id": "28798156",
   "metadata": {},
   "outputs": [],
   "source": []
  }
 ],
 "metadata": {
  "kernelspec": {
   "display_name": "Python 3 (ipykernel)",
   "language": "python",
   "name": "python3"
  },
  "language_info": {
   "codemirror_mode": {
    "name": "ipython",
    "version": 3
   },
   "file_extension": ".py",
   "mimetype": "text/x-python",
   "name": "python",
   "nbconvert_exporter": "python",
   "pygments_lexer": "ipython3",
   "version": "3.9.13"
  }
 },
 "nbformat": 4,
 "nbformat_minor": 5
}
