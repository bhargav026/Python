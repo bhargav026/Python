{
 "cells": [
  {
   "cell_type": "markdown",
   "id": "fc1e2612",
   "metadata": {},
   "source": [
    "1.\tWrite a Python program to find words which are greater than given length k?"
   ]
  },
  {
   "cell_type": "code",
   "execution_count": 1,
   "id": "479e5728",
   "metadata": {},
   "outputs": [
    {
     "name": "stdout",
     "output_type": "stream",
     "text": [
      "Enter the string : this is my string for finding out the words which length is more than 4\n",
      "Enter the lenth K : 4\n",
      "Words greater than k4\n",
      "['string', 'finding', 'words', 'which', 'length']\n"
     ]
    }
   ],
   "source": [
    "def Biggerthank(k,string):\n",
    "    txt = string.split()\n",
    "    Wordlist = []\n",
    "    for i in txt:\n",
    "        if len(i) > k:\n",
    "            Wordlist.append(i)\n",
    "    return Wordlist\n",
    "\n",
    "string = input(\"Enter the string : \")\n",
    "k = int(input(\"Enter the lenth K : \"))\n",
    "\n",
    "Wordlist = Biggerthank(k,string)\n",
    "\n",
    "print(\"Words greater than k{}\".format(k))\n",
    "print(Wordlist)"
   ]
  },
  {
   "cell_type": "markdown",
   "id": "e5c191d1",
   "metadata": {},
   "source": [
    "2.\tWrite a Python program for removing i-th character from a string?"
   ]
  },
  {
   "cell_type": "code",
   "execution_count": 2,
   "id": "30a8885e",
   "metadata": {},
   "outputs": [
    {
     "name": "stdout",
     "output_type": "stream",
     "text": [
      "Enter the string : this is a string given as input\n",
      "Enter the index : 2\n",
      "The new string :  ths is a string given as input\n"
     ]
    }
   ],
   "source": [
    "# Removes character at index i\n",
    "\n",
    "def remove(string, i): \n",
    "  \n",
    "    for j in range(len(string)):\n",
    "        if j == i:\n",
    "            string = string.replace(string[i], \"\", 1)\n",
    "    return string      \n",
    "\n",
    "string = input(\"Enter the string : \")\n",
    "i = int(input(\"Enter the index : \"))      \n",
    "\n",
    "# Print the new string\n",
    "\n",
    "print(\"The new string : \", remove(string, i))"
   ]
  },
  {
   "cell_type": "markdown",
   "id": "e390c37b",
   "metadata": {},
   "source": [
    "3.\tWrite a Python program to split and join a string?"
   ]
  },
  {
   "cell_type": "code",
   "execution_count": 3,
   "id": "d6392a50",
   "metadata": {},
   "outputs": [
    {
     "name": "stdout",
     "output_type": "stream",
     "text": [
      "Spliting a string :  ['this', 'is', 'my', 'string,', 'calculate', 'how', 'many', 'words', 'are', 'having', 'more', 'than', '4', 'letters']\n",
      "Joining a string :  this_is_my_string,_calculate_how_many_words_are_having_more_than_4_letters\n"
     ]
    }
   ],
   "source": [
    "string = 'this is my string, calculate how many words are having more than 4 letters'\n",
    "string = string.split(\" \") \n",
    "print(\"Spliting a string : \",string)\n",
    "\n",
    "\n",
    "string = \"_\".join(string)\n",
    "print(\"Joining a string : \",string)"
   ]
  },
  {
   "cell_type": "markdown",
   "id": "9f6c0881",
   "metadata": {},
   "source": [
    "4.\tWrite a Python to check if a given string is binary string or not?"
   ]
  },
  {
   "cell_type": "code",
   "execution_count": 4,
   "id": "5b219c8e",
   "metadata": {},
   "outputs": [
    {
     "name": "stdout",
     "output_type": "stream",
     "text": [
      "enter string: 10100111101\n"
     ]
    },
    {
     "data": {
      "text/plain": [
       "True"
      ]
     },
     "execution_count": 4,
     "metadata": {},
     "output_type": "execute_result"
    }
   ],
   "source": [
    "def isbinary(string):\n",
    "    \"\"\" This funtion checks the input is binary string or not\n",
    "    :param string: str\n",
    "    :return :bool value, True if string is binary string, False if not\"\"\"\n",
    "    binary = '01'\n",
    "    for i in string:\n",
    "        if i not in binary:\n",
    "            return False\n",
    "    return True\n",
    "\n",
    "string = input('enter string: ')\n",
    "isbinary(string)"
   ]
  },
  {
   "cell_type": "markdown",
   "id": "2dd8aa86",
   "metadata": {},
   "source": [
    "5.\tWrite a Python program to find uncommon words from two Strings?"
   ]
  },
  {
   "cell_type": "code",
   "execution_count": 5,
   "id": "81c49dd0",
   "metadata": {},
   "outputs": [
    {
     "name": "stdout",
     "output_type": "stream",
     "text": [
      "enter string1: this is my first string, hello\n",
      "enter string2: this is my second string , bye\n"
     ]
    },
    {
     "data": {
      "text/plain": [
       "['first', 'hello', 'second', 'bye']"
      ]
     },
     "execution_count": 5,
     "metadata": {},
     "output_type": "execute_result"
    }
   ],
   "source": [
    "def uncommon(str1,str2):\n",
    "    str1 = str1.replace(',','')\n",
    "    str2 = str2.replace(',','')\n",
    "    str1 = str1.split(' ')\n",
    "    str2 = str2.split(' ')\n",
    "    uc = [i for i in str1 if i not in str2]\n",
    "    uc = uc+ [i for i in str2 if i not in str1]\n",
    "    uc.remove('')\n",
    "    return uc\n",
    "str1 = input('enter string1: ')\n",
    "str2 = input('enter string2: ')\n",
    "uncommon(str1,str2)"
   ]
  },
  {
   "cell_type": "markdown",
   "id": "a6ceff8e",
   "metadata": {},
   "source": [
    "6.\tWrite a Python to find all duplicate characters in string?"
   ]
  },
  {
   "cell_type": "code",
   "execution_count": 7,
   "id": "ac942dc4",
   "metadata": {},
   "outputs": [
    {
     "name": "stdout",
     "output_type": "stream",
     "text": [
      "Enter the string : enter the string\n",
      "['e', 'n', 't', 'r', ' ']\n"
     ]
    }
   ],
   "source": [
    "string = input(\"Enter the string : \").lower()\n",
    "duplicate = []\n",
    "for i in string:\n",
    "    if string.count(i)>1:\n",
    "        if i not in duplicate:\n",
    "            duplicate.append(i)\n",
    "            \n",
    "print(duplicate)"
   ]
  },
  {
   "cell_type": "markdown",
   "id": "60793af3",
   "metadata": {},
   "source": [
    "7.\tWrite a Python Program to check if a string contains any special character?"
   ]
  },
  {
   "cell_type": "code",
   "execution_count": 8,
   "id": "ca629e98",
   "metadata": {},
   "outputs": [
    {
     "name": "stdout",
     "output_type": "stream",
     "text": [
      "Enter the string a : #huhu$iuhhHH7ygUYG4guygu5yGg%hgu^gu*#@\n",
      "['#', '$', '%', '^', '*', '#', '@']\n"
     ]
    }
   ],
   "source": [
    "import string\n",
    "\n",
    "str_char = string.punctuation\n",
    "string = input(\"Enter the string a : \").lower()\n",
    "speci_char = []\n",
    "for i in string:\n",
    "    if i in str_char:\n",
    "        speci_char.append(i)\n",
    "\n",
    "if len(speci_char)>1:\n",
    "    print(speci_char)"
   ]
  },
  {
   "cell_type": "code",
   "execution_count": null,
   "id": "51c73849",
   "metadata": {},
   "outputs": [],
   "source": []
  }
 ],
 "metadata": {
  "kernelspec": {
   "display_name": "Python 3 (ipykernel)",
   "language": "python",
   "name": "python3"
  },
  "language_info": {
   "codemirror_mode": {
    "name": "ipython",
    "version": 3
   },
   "file_extension": ".py",
   "mimetype": "text/x-python",
   "name": "python",
   "nbconvert_exporter": "python",
   "pygments_lexer": "ipython3",
   "version": "3.9.13"
  }
 },
 "nbformat": 4,
 "nbformat_minor": 5
}
