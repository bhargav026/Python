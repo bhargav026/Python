{
 "cells": [
  {
   "cell_type": "markdown",
   "id": "f933ee44",
   "metadata": {},
   "source": [
    "1. Add the current date to the text file today.txt as a string."
   ]
  },
  {
   "cell_type": "code",
   "execution_count": 1,
   "id": "40254f84",
   "metadata": {},
   "outputs": [],
   "source": [
    "import datetime\n",
    "date = datetime.date.today()\n",
    "f = open('today.txt','w')\n",
    "f.write(str(date))\n",
    "f.close()"
   ]
  },
  {
   "cell_type": "markdown",
   "id": "f15dfed7",
   "metadata": {},
   "source": [
    "2. Read the text file today.txt into the string today_string"
   ]
  },
  {
   "cell_type": "code",
   "execution_count": 2,
   "id": "434d901a",
   "metadata": {},
   "outputs": [
    {
     "data": {
      "text/plain": [
       "'2022-11-09'"
      ]
     },
     "execution_count": 2,
     "metadata": {},
     "output_type": "execute_result"
    }
   ],
   "source": [
    "f = open('today.txt','r')\n",
    "today_string = f.read()\n",
    "today_string"
   ]
  },
  {
   "cell_type": "markdown",
   "id": "bc0d984c",
   "metadata": {},
   "source": [
    "3. Parse the date from today_string."
   ]
  },
  {
   "cell_type": "code",
   "execution_count": 3,
   "id": "727a3d44",
   "metadata": {},
   "outputs": [
    {
     "data": {
      "text/plain": [
       "datetime.datetime(2022, 11, 9, 0, 0)"
      ]
     },
     "execution_count": 3,
     "metadata": {},
     "output_type": "execute_result"
    }
   ],
   "source": [
    "format = '%Y-%m-%d'\n",
    "datetime.datetime.strptime(today_string,format)"
   ]
  },
  {
   "cell_type": "markdown",
   "id": "6152c8ea",
   "metadata": {},
   "source": [
    "4. List the files in your current directory"
   ]
  },
  {
   "cell_type": "code",
   "execution_count": 4,
   "id": "a38bd916",
   "metadata": {},
   "outputs": [
    {
     "name": "stdout",
     "output_type": "stream",
     "text": [
      " Volume in drive C is Windows\n",
      " Volume Serial Number is CCAA-9AC8\n",
      "\n",
      " Directory of C:\\Users\\bharg\\PycharmProjects\\jupyter\n",
      "\n",
      "09-11-2022  12:25    <DIR>          .\n",
      "09-11-2022  12:25    <DIR>          ..\n",
      "09-11-2022  11:48    <DIR>          .ipynb_checkpoints\n",
      "08-11-2022  15:27    <DIR>          __pycache__\n",
      "05-11-2022  09:51            23,924 123.png\n",
      "24-08-2020  18:09           132,917 14419.jpg\n",
      "01-11-2022  18:26    <DIR>          19.3 MongoDB\n",
      "09-11-2022  10:44               207 books.csv\n",
      "09-11-2022  10:53             8,192 books.db\n",
      "30-10-2022  15:45            51,867 car.data\n",
      "30-10-2022  15:50             3,097 car.names\n",
      "02-11-2022  09:38           628,633 carbon_nanotubes.csv\n",
      "30-10-2022  09:32            11,903 glass.data\n",
      "05-11-2022  15:08    <DIR>          GUI Programming\n",
      "07-11-2022  22:47            10,299 GUI.ipynb\n",
      "02-11-2022  11:17             8,192 ineuron.db\n",
      "02-11-2022  11:35            12,288 join.db\n",
      "01-11-2022  17:55            21,154 mangoDB_databases.ipynb\n",
      "09-11-2022  12:14               409 multi.py\n",
      "09-11-2022  10:02           679,440 Mysql_databases.ipynb\n",
      "02-11-2022  11:16             8,192 person.db\n",
      "09-11-2022  12:25            10,353 python_Assign21.ipynb\n",
      "05-11-2022  16:54            27,088 SQL Lite, Map, Reduce, Filter, Zip.ipynb\n",
      "09-11-2022  10:44                43 test.txt\n",
      "09-11-2022  12:26                10 today.txt\n",
      "08-11-2022  15:26                79 zoo.py\n",
      "              20 File(s)      1,638,287 bytes\n",
      "               6 Dir(s)  240,215,097,344 bytes free\n"
     ]
    }
   ],
   "source": [
    "ls"
   ]
  },
  {
   "cell_type": "markdown",
   "id": "66f58be1",
   "metadata": {},
   "source": [
    "5. Create a list of all of the files in your parent directory (minimum five files should be available)."
   ]
  },
  {
   "cell_type": "code",
   "execution_count": 5,
   "id": "97e6cde4",
   "metadata": {},
   "outputs": [
    {
     "data": {
      "text/plain": [
       "['.ipynb_checkpoints',\n",
       " '123.png',\n",
       " '14419.jpg',\n",
       " '19.3 MongoDB',\n",
       " 'books.csv',\n",
       " 'books.db',\n",
       " 'car.data',\n",
       " 'car.names',\n",
       " 'carbon_nanotubes.csv',\n",
       " 'glass.data',\n",
       " 'GUI Programming',\n",
       " 'GUI.ipynb',\n",
       " 'ineuron.db',\n",
       " 'join.db',\n",
       " 'mangoDB_databases.ipynb',\n",
       " 'multi.py',\n",
       " 'Mysql_databases.ipynb',\n",
       " 'person.db',\n",
       " 'python_Assign21.ipynb',\n",
       " 'SQL Lite, Map, Reduce, Filter, Zip.ipynb',\n",
       " 'test.txt',\n",
       " 'today.txt',\n",
       " 'zoo.py',\n",
       " '__pycache__']"
      ]
     },
     "execution_count": 5,
     "metadata": {},
     "output_type": "execute_result"
    }
   ],
   "source": [
    "import os\n",
    "os.listdir('.')"
   ]
  },
  {
   "cell_type": "markdown",
   "id": "b7a4973e",
   "metadata": {},
   "source": [
    "6. Use multiprocessing to create three separate processes. Make each one wait a random number of seconds between one and five, print the current time, and then exit."
   ]
  },
  {
   "cell_type": "code",
   "execution_count": 6,
   "id": "58b0c321",
   "metadata": {},
   "outputs": [],
   "source": [
    "import multiprocessing\n",
    "import random \n",
    "\n",
    "def printsec(seconds):\n",
    "    from datetime import datetime\n",
    "    from time import sleep\n",
    "    sleep(seconds)\n",
    "    print('wait', seconds, 'seconds, time is', datetime.utcnow())\n",
    "    \n",
    "if __name__ == '__main__':\n",
    "    for n in range(3):\n",
    "        seconds = random.randrange(1,5)\n",
    "        proc = multiprocessing.Process(target=printsec, args=(seconds,))\n",
    "        proc.start()\n",
    "\n",
    "# saved this program as multi.py in current working dir"
   ]
  },
  {
   "cell_type": "code",
   "execution_count": 7,
   "id": "16127453",
   "metadata": {},
   "outputs": [
    {
     "name": "stdout",
     "output_type": "stream",
     "text": [
      "wait 1 seconds, time is 2022-11-09 06:56:17.437963\n",
      "wait 2 seconds, time is 2022-11-09 06:56:18.424169\n",
      "wait 3 seconds, time is 2022-11-09 06:56:19.436255\n"
     ]
    }
   ],
   "source": [
    "!python multi.py"
   ]
  },
  {
   "cell_type": "markdown",
   "id": "b1d5979b",
   "metadata": {},
   "source": [
    "7. Create a date object of your day of birth."
   ]
  },
  {
   "cell_type": "code",
   "execution_count": 8,
   "id": "433f6bba",
   "metadata": {},
   "outputs": [
    {
     "data": {
      "text/plain": [
       "datetime.date(1997, 8, 15)"
      ]
     },
     "execution_count": 8,
     "metadata": {},
     "output_type": "execute_result"
    }
   ],
   "source": [
    "dob = datetime.date(1997,8,15)\n",
    "dob"
   ]
  },
  {
   "cell_type": "markdown",
   "id": "ae188f63",
   "metadata": {},
   "source": [
    "8. What day of the week was your day of birth?"
   ]
  },
  {
   "cell_type": "code",
   "execution_count": 9,
   "id": "b0b66797",
   "metadata": {},
   "outputs": [
    {
     "data": {
      "text/plain": [
       "4"
      ]
     },
     "execution_count": 9,
     "metadata": {},
     "output_type": "execute_result"
    }
   ],
   "source": [
    "day = dob.weekday()\n",
    "day"
   ]
  },
  {
   "cell_type": "markdown",
   "id": "85df48ac",
   "metadata": {},
   "source": [
    "9. When will you be (or when were you) 10,000 days old?"
   ]
  },
  {
   "cell_type": "code",
   "execution_count": 10,
   "id": "cf72d943",
   "metadata": {},
   "outputs": [
    {
     "data": {
      "text/plain": [
       "datetime.date(2024, 12, 31)"
      ]
     },
     "execution_count": 10,
     "metadata": {},
     "output_type": "execute_result"
    }
   ],
   "source": [
    "dob+datetime.timedelta(10000)"
   ]
  },
  {
   "cell_type": "code",
   "execution_count": null,
   "id": "8378544f",
   "metadata": {},
   "outputs": [],
   "source": []
  }
 ],
 "metadata": {
  "kernelspec": {
   "display_name": "Python 3 (ipykernel)",
   "language": "python",
   "name": "python3"
  },
  "language_info": {
   "codemirror_mode": {
    "name": "ipython",
    "version": 3
   },
   "file_extension": ".py",
   "mimetype": "text/x-python",
   "name": "python",
   "nbconvert_exporter": "python",
   "pygments_lexer": "ipython3",
   "version": "3.9.13"
  }
 },
 "nbformat": 4,
 "nbformat_minor": 5
}
