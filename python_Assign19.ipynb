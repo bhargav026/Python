{
 "cells": [
  {
   "cell_type": "markdown",
   "id": "01a99955",
   "metadata": {},
   "source": [
    "1. Make a class called Thing with no contents and print it. Then, create an object called example from this class and also print it. Are the printed values the same or different?"
   ]
  },
  {
   "cell_type": "code",
   "execution_count": 1,
   "id": "a2b5dae4",
   "metadata": {},
   "outputs": [
    {
     "name": "stdout",
     "output_type": "stream",
     "text": [
      "<class '__main__.Thing'>\n",
      "<__main__.Thing object at 0x000001CEC35F0850>\n"
     ]
    }
   ],
   "source": [
    "class Thing:\n",
    "    pass\n",
    "print(Thing)\n",
    "example = Thing()\n",
    "print(example)"
   ]
  },
  {
   "cell_type": "markdown",
   "id": "a632bc2a",
   "metadata": {},
   "source": [
    "Both are different"
   ]
  },
  {
   "cell_type": "markdown",
   "id": "03db952d",
   "metadata": {},
   "source": [
    "2. Create a new class called Thing2 and add the value 'abc' to the letters class attribute. Letters should be printed."
   ]
  },
  {
   "cell_type": "code",
   "execution_count": 2,
   "id": "0e9664c5",
   "metadata": {},
   "outputs": [
    {
     "data": {
      "text/plain": [
       "'abc'"
      ]
     },
     "execution_count": 2,
     "metadata": {},
     "output_type": "execute_result"
    }
   ],
   "source": [
    "class Thing2:\n",
    "    letters = 'abc'\n",
    "    \n",
    "Thing2.letters"
   ]
  },
  {
   "cell_type": "markdown",
   "id": "fd1729ff",
   "metadata": {},
   "source": [
    "3. Make yet another class called, of course, Thing3. This time, assign the value 'xyz' to an instance (object) attribute called letters. Print letters. Do you need to make an object from the class to do this?"
   ]
  },
  {
   "cell_type": "code",
   "execution_count": 3,
   "id": "b54663a5",
   "metadata": {},
   "outputs": [
    {
     "data": {
      "text/plain": [
       "'xyz'"
      ]
     },
     "execution_count": 3,
     "metadata": {},
     "output_type": "execute_result"
    }
   ],
   "source": [
    "class Thing3:\n",
    "    def __init__(self, letters):\n",
    "        self.letters = letters\n",
    "\n",
    "Thing3('xyz').letters\n",
    "#yes , it is required to craete a object from the class\n",
    "\n",
    "example3 = Thing3('xyz')\n",
    "example3.letters\n"
   ]
  },
  {
   "cell_type": "markdown",
   "id": "da9d3971",
   "metadata": {},
   "source": [
    "4. Create an Element class with the instance attributes name, symbol, and number. Create a class object with the values 'Hydrogen,' 'H,' and 1."
   ]
  },
  {
   "cell_type": "code",
   "execution_count": 4,
   "id": "3c107f73",
   "metadata": {},
   "outputs": [
    {
     "name": "stdout",
     "output_type": "stream",
     "text": [
      "Hydrogen H 1\n"
     ]
    }
   ],
   "source": [
    "class Element:\n",
    "    def __init__(self, name, symbol, number):\n",
    "        self.name = name\n",
    "        self.symbol = symbol\n",
    "        self.number = number\n",
    "hydrogen = Element('Hydrogen','H',1)\n",
    "print(hydrogen.name, hydrogen.symbol, hydrogen.number)"
   ]
  },
  {
   "cell_type": "markdown",
   "id": "5903c07a",
   "metadata": {},
   "source": [
    "5. Make a dictionary with these keys and values: 'name': 'Hydrogen', 'symbol': 'H', 'number': 1. Then, create an object called hydrogen from class Element using this dictionary."
   ]
  },
  {
   "cell_type": "code",
   "execution_count": 5,
   "id": "2211ddc1",
   "metadata": {},
   "outputs": [
    {
     "data": {
      "text/plain": [
       "'Hydrogen'"
      ]
     },
     "execution_count": 5,
     "metadata": {},
     "output_type": "execute_result"
    }
   ],
   "source": [
    "dic = {'name': 'Hydrogen', 'symbol': 'H', 'number': 1}\n",
    "hydrogen = Element(**dic) #dictionary unpacking\n",
    "hydrogen.name"
   ]
  },
  {
   "cell_type": "markdown",
   "id": "264ff18d",
   "metadata": {},
   "source": [
    "6. For the Element class, define a method called dump() that prints the values of the object’s attributes (name, symbol, and number). Create the hydrogen object from this new definition and use dump() to print its attributes."
   ]
  },
  {
   "cell_type": "code",
   "execution_count": 15,
   "id": "966d464a",
   "metadata": {},
   "outputs": [],
   "source": [
    "class Element:\n",
    "    def __init__(self, name, symbol, number):\n",
    "        self.name = name\n",
    "        self.symbol = symbol\n",
    "        self.number = number\n",
    "    \n",
    "    def dump(self):\n",
    "        print('name:',self.name,',','symbol:', self.symbol,',','number:',self.number)"
   ]
  },
  {
   "cell_type": "code",
   "execution_count": 16,
   "id": "dd33a43a",
   "metadata": {},
   "outputs": [
    {
     "name": "stdout",
     "output_type": "stream",
     "text": [
      "name: Oxygen , symbol: o , number: 8\n"
     ]
    }
   ],
   "source": [
    "oxygen = Element('Oxygen','o',8)\n",
    "oxygen.dump()\n",
    "hydrogen = Element('Hydrogen','H',1)"
   ]
  },
  {
   "cell_type": "markdown",
   "id": "8e177a2f",
   "metadata": {},
   "source": [
    "7. Call print(hydrogen). In the definition of Element, change the name of method dump to __str__, create a new hydrogen object, and call print(hydrogen) again."
   ]
  },
  {
   "cell_type": "code",
   "execution_count": 21,
   "id": "86ab17b5",
   "metadata": {},
   "outputs": [
    {
     "name": "stdout",
     "output_type": "stream",
     "text": [
      "<__main__.Element object at 0x000001CEC571B1F0>\n",
      "name:Hydrogen ,symbol:H ,number:1\n"
     ]
    }
   ],
   "source": [
    "print(hydrogen)\n",
    "class Element:\n",
    "    def __init__(self, name, symbol, number):\n",
    "        self.name = name\n",
    "        self.symbol = symbol\n",
    "        self.number = number\n",
    "    \n",
    "    def __str__(self):\n",
    "        return ('name:%s ,symbol:%s ,number:%s' %(self.name, self.symbol,self.number))\n",
    "    \n",
    "hydrogen = Element('Hydrogen','H',1)\n",
    "print(hydrogen)"
   ]
  },
  {
   "cell_type": "markdown",
   "id": "0a0ffaab",
   "metadata": {},
   "source": [
    "8. Modify Element to make the attributes name, symbol, and number private. Define a getter property for each to return its value."
   ]
  },
  {
   "cell_type": "code",
   "execution_count": 27,
   "id": "5da9176b",
   "metadata": {},
   "outputs": [],
   "source": [
    "class Element(): \n",
    "    def __init__(self ,name,symbol,number):\n",
    "        self.__name = name\n",
    "        self.__symbol = symbol\n",
    "        self.__number = number\n",
    "    @property\n",
    "    def name(self):\n",
    "        return (self.__name)\n",
    "    @property\n",
    "    def symbol(self):\n",
    "        return (self.__symbol)\n",
    "    @property\n",
    "    def number(self):\n",
    "        return (self.__number)"
   ]
  },
  {
   "cell_type": "code",
   "execution_count": 28,
   "id": "2c3abb60",
   "metadata": {},
   "outputs": [
    {
     "data": {
      "text/plain": [
       "'Hydrogen'"
      ]
     },
     "execution_count": 28,
     "metadata": {},
     "output_type": "execute_result"
    }
   ],
   "source": [
    "hydrogen = Element('Hydrogen','H',1)\n",
    "hydrogen.name"
   ]
  },
  {
   "cell_type": "markdown",
   "id": "f491ef4a",
   "metadata": {},
   "source": [
    "9. Define three classes: Bear, Rabbit, and Octothorpe. For each, define only one method: eats(). This should return 'berries' (Bear), 'clover' (Rabbit), or 'campers' (Octothorpe). Create one object from each and print what it eats."
   ]
  },
  {
   "cell_type": "code",
   "execution_count": 35,
   "id": "82baf2ee",
   "metadata": {},
   "outputs": [],
   "source": [
    "class Bear:\n",
    "    def eats(self):\n",
    "        print('berries')\n",
    "\n",
    "class Rabbit:\n",
    "    def eats(self):\n",
    "        print('clover')\n",
    "\n",
    "class Octothorpe:\n",
    "    def eats():\n",
    "        print('campers')"
   ]
  },
  {
   "cell_type": "code",
   "execution_count": 37,
   "id": "8c0304a3",
   "metadata": {},
   "outputs": [
    {
     "name": "stdout",
     "output_type": "stream",
     "text": [
      "berries\n"
     ]
    }
   ],
   "source": [
    "bear = Bear()\n",
    "bear.eats()"
   ]
  },
  {
   "cell_type": "code",
   "execution_count": 39,
   "id": "2aec1129",
   "metadata": {},
   "outputs": [
    {
     "name": "stdout",
     "output_type": "stream",
     "text": [
      "clover\n"
     ]
    }
   ],
   "source": [
    "rabbit = Rabbit()\n",
    "rabbit.eats()"
   ]
  },
  {
   "cell_type": "code",
   "execution_count": 40,
   "id": "ab11238a",
   "metadata": {},
   "outputs": [
    {
     "name": "stdout",
     "output_type": "stream",
     "text": [
      "campers\n"
     ]
    }
   ],
   "source": [
    "octothorpe = Octothorpe()\n",
    "octothorpe.eats()"
   ]
  },
  {
   "cell_type": "markdown",
   "id": "ee3bf369",
   "metadata": {},
   "source": [
    "10. Define these classes: Laser, Claw, and SmartPhone. Each has only one method: does(). This returns 'disintegrate' (Laser), 'crush' (Claw), or 'ring' (SmartPhone). Then, define the class Robot that has one instance (object) of each of these. Define a does() method for the Robot that prints what its component objects do."
   ]
  },
  {
   "cell_type": "code",
   "execution_count": 33,
   "id": "bcb52e51",
   "metadata": {},
   "outputs": [],
   "source": [
    "class Laser:\n",
    "    def does(self):\n",
    "        return('disitegrate')\n",
    "class Claw:\n",
    "    def does(self):\n",
    "        return('crush')\n",
    "class SmartPhone:\n",
    "    def does(self):\n",
    "        return('ring')\n",
    "        \n",
    "class Robot:\n",
    "    def __init__(self):\n",
    "        self.laser = Laser()\n",
    "        self.claw = Claw()\n",
    "        self.smartphone = SmartPhone()\n",
    "    def does(self):\n",
    "        return ('Laser is %s, Claw is %s, SmartPhone is %s' % (self.laser.does(),self.claw.does(),self.smartphone.does()))"
   ]
  },
  {
   "cell_type": "code",
   "execution_count": 34,
   "id": "6f36a4cb",
   "metadata": {},
   "outputs": [
    {
     "data": {
      "text/plain": [
       "'Laser is disitegrate, Claw is crush, SmartPhone is ring'"
      ]
     },
     "execution_count": 34,
     "metadata": {},
     "output_type": "execute_result"
    }
   ],
   "source": [
    "robo = Robot()\n",
    "robo.does()"
   ]
  },
  {
   "cell_type": "code",
   "execution_count": null,
   "id": "642f40c6",
   "metadata": {},
   "outputs": [],
   "source": []
  }
 ],
 "metadata": {
  "kernelspec": {
   "display_name": "Python 3 (ipykernel)",
   "language": "python",
   "name": "python3"
  },
  "language_info": {
   "codemirror_mode": {
    "name": "ipython",
    "version": 3
   },
   "file_extension": ".py",
   "mimetype": "text/x-python",
   "name": "python",
   "nbconvert_exporter": "python",
   "pygments_lexer": "ipython3",
   "version": "3.9.13"
  }
 },
 "nbformat": 4,
 "nbformat_minor": 5
}
