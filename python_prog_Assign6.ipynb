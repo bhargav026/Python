{
 "cells": [
  {
   "cell_type": "markdown",
   "id": "fc1e2612",
   "metadata": {},
   "source": [
    "1.\tWrite a Python Program to Display Fibonacci Sequence Using Recursion?"
   ]
  },
  {
   "cell_type": "code",
   "execution_count": 1,
   "id": "479e5728",
   "metadata": {},
   "outputs": [
    {
     "name": "stdout",
     "output_type": "stream",
     "text": [
      "enter the length of sereis to be calculated8\n",
      "Fibonacci sequence:\t0\t1\t1\t2\t3\t5\t8\t13\t"
     ]
    }
   ],
   "source": [
    "def recur_fibo(n):\n",
    "    if n <= 1:\n",
    "        return n\n",
    "    else:\n",
    "        return(recur_fibo(n-1) + recur_fibo(n-2))\n",
    "\n",
    "n= int(input('enter the length of sereis to be calculated'))\n",
    "\n",
    "if n<= 0:\n",
    "    print(\"Plese enter a positive integer: \")\n",
    "else:\n",
    "    print(\"Fibonacci sequence:\", end = '\\t')\n",
    "    for i in range(n):\n",
    "        print(recur_fibo(i),end = '\\t')\n",
    "        "
   ]
  },
  {
   "cell_type": "markdown",
   "id": "e5c191d1",
   "metadata": {},
   "source": [
    "2.\tWrite a Python Program to Find Factorial of Number Using Recursion?"
   ]
  },
  {
   "cell_type": "code",
   "execution_count": 2,
   "id": "30a8885e",
   "metadata": {},
   "outputs": [
    {
     "name": "stdout",
     "output_type": "stream",
     "text": [
      "enter a number to find factorial: 7\n"
     ]
    },
    {
     "data": {
      "text/plain": [
       "5040"
      ]
     },
     "execution_count": 2,
     "metadata": {},
     "output_type": "execute_result"
    }
   ],
   "source": [
    "def factorial(n):\n",
    "    \"\"\" This function find out the factorial of given number\n",
    "    :param n: INT,  positive integer\n",
    "    :return : factorial of given number\n",
    "    \"\"\"\n",
    "    if n<0:\n",
    "        print('no factorial exists for -ve numbers')\n",
    "    elif n == 1:\n",
    "        return n\n",
    "    elif n ==0:\n",
    "        return 1\n",
    "    else:\n",
    "        return n*factorial(n-1)\n",
    "    \n",
    "n = int(input('enter a number to find factorial: '))\n",
    "factorial(n)"
   ]
  },
  {
   "cell_type": "markdown",
   "id": "e390c37b",
   "metadata": {},
   "source": [
    "3.\tWrite a Python Program to calculate your Body Mass Index?"
   ]
  },
  {
   "cell_type": "code",
   "execution_count": 3,
   "id": "d6392a50",
   "metadata": {},
   "outputs": [
    {
     "name": "stdout",
     "output_type": "stream",
     "text": [
      "enter weight in kgs: 62\n",
      "enter height in mts: 1.77\n"
     ]
    },
    {
     "data": {
      "text/plain": [
       "19.789970953429727"
      ]
     },
     "execution_count": 3,
     "metadata": {},
     "output_type": "execute_result"
    }
   ],
   "source": [
    "def bmi_cal(w,h):\n",
    "    \"\"\" This fucntion calculates the BMI index\n",
    "    :param w: float , takes weight in Kgs\n",
    "    :param h: float , takes height in mts\n",
    "    :return : float , BMI index value\n",
    "    \"\"\"\n",
    "    return w/h**2\n",
    "\n",
    "w = float(input('enter weight in kgs: '))\n",
    "h = float(input('enter height in mts: '))\n",
    "bmi_cal(w,h)"
   ]
  },
  {
   "cell_type": "markdown",
   "id": "9f6c0881",
   "metadata": {},
   "source": [
    "4.\tWrite a Python Program to calculate the natural logarithm of any number?"
   ]
  },
  {
   "cell_type": "code",
   "execution_count": 4,
   "id": "5b219c8e",
   "metadata": {},
   "outputs": [
    {
     "name": "stdout",
     "output_type": "stream",
     "text": [
      "enter any number: 456\n"
     ]
    },
    {
     "data": {
      "text/plain": [
       "6.1224928095143865"
      ]
     },
     "execution_count": 4,
     "metadata": {},
     "output_type": "execute_result"
    }
   ],
   "source": [
    "import math\n",
    "n = int(input('enter any number: '))\n",
    "math.log(n)"
   ]
  },
  {
   "cell_type": "markdown",
   "id": "2dd8aa86",
   "metadata": {},
   "source": [
    "5.\tWrite a Python Program for cube sum of first n natural numbers?"
   ]
  },
  {
   "cell_type": "code",
   "execution_count": 5,
   "id": "81c49dd0",
   "metadata": {},
   "outputs": [
    {
     "name": "stdout",
     "output_type": "stream",
     "text": [
      "enter any number: 8\n"
     ]
    },
    {
     "data": {
      "text/plain": [
       "1296.0"
      ]
     },
     "execution_count": 5,
     "metadata": {},
     "output_type": "execute_result"
    }
   ],
   "source": [
    "n = int(input('enter any number: '))\n",
    "(n*(n+1)/2)**2  #\n"
   ]
  },
  {
   "cell_type": "code",
   "execution_count": null,
   "id": "46d6b0d1",
   "metadata": {},
   "outputs": [],
   "source": []
  }
 ],
 "metadata": {
  "kernelspec": {
   "display_name": "Python 3 (ipykernel)",
   "language": "python",
   "name": "python3"
  },
  "language_info": {
   "codemirror_mode": {
    "name": "ipython",
    "version": 3
   },
   "file_extension": ".py",
   "mimetype": "text/x-python",
   "name": "python",
   "nbconvert_exporter": "python",
   "pygments_lexer": "ipython3",
   "version": "3.9.13"
  }
 },
 "nbformat": 4,
 "nbformat_minor": 5
}
